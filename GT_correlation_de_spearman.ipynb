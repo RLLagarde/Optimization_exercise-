{
 "cells": [
  {
   "cell_type": "markdown",
   "id": "4745fa9d-2f6e-4d42-a4c4-9729680a3e39",
   "metadata": {},
   "source": [
    "# Recherche d'une corrélation entre une courbe de consommation et une courbe de douleur à l'aide du coefficient de Spearman"
   ]
  },
  {
   "cell_type": "code",
   "execution_count": 1,
   "id": "2ef9ec93-8bbd-4b97-8e53-712311d5ee30",
   "metadata": {
    "vscode": {
     "languageId": "shellscript"
    }
   },
   "outputs": [],
   "source": [
    "import numpy as np\n",
    "import pandas as pd\n",
    "import matplotlib.pyplot as plt"
   ]
  },
  {
   "cell_type": "code",
   "execution_count": 2,
   "id": "d76f6ef4",
   "metadata": {
    "vscode": {
     "languageId": "shellscript"
    }
   },
   "outputs": [
    {
     "name": "stdout",
     "output_type": "stream",
     "text": [
      "['LFM0', 'LFM1', 'LFM2', 'LFM3', 'LFM4', 'LFM5', 'LFM6', 'LFM7', 'LFM8', 'LFM9', 'LFM10', 'LFM11', 'LFM12', 'LFM13', 'LFM14', 'LFM15', 'LFM16', 'LFM17', 'LFM18', 'LFM19', 'LFM20', 'LFM21', 'LFM22', 'LFM23', 'LFM24', 'LFM25', 'LFM26', 'LFM27', 'LFM28', 'LFM29', 'LFM0', 'LFM1', 'LFM2', 'LFM3', 'LFM4', 'LFM5', 'LFM6', 'LFM7', 'LFM8', 'LFM9', 'LFM10', 'LFM11', 'LFM12', 'LFM13', 'LFM14', 'LFM15', 'LFM16', 'LFM17', 'LFM18', 'LFM19']\n"
     ]
    }
   ],
   "source": [
    "Food_high_risk_priority=[]\n",
    "\n",
    "n_lfm=30\n",
    "for i in range (0,n_lfm):\n",
    "    Food_high_risk_priority.append('LFM'+str(i))\n",
    "n_ml=20\n",
    "for i in range (0,n_ml):\n",
    "    Food_high_risk_priority.append('LFM'+str(i))\n",
    "\n",
    "print(Food_high_risk_priority)"
   ]
  },
  {
   "cell_type": "code",
   "execution_count": 4,
   "id": "c973319b-80cb-43bd-9540-3913d1da20c5",
   "metadata": {
    "vscode": {
     "languageId": "shellscript"
    }
   },
   "outputs": [],
   "source": [
    "# données test \n",
    "viande_rouge = np.array([150,200,250,300,300,200,200,150,100,0])\n",
    "douleur = np.array([6,4,5,6,7,8,5,4,2,1])"
   ]
  },
  {
   "cell_type": "code",
   "execution_count": 5,
   "id": "0f91a7b2-0878-4147-9323-8f1638121da4",
   "metadata": {
    "vscode": {
     "languageId": "shellscript"
    }
   },
   "outputs": [
    {
     "name": "stdout",
     "output_type": "stream",
     "text": [
      "Corrélation instantannée de Spearman : 0.6947343909029214\n"
     ]
    }
   ],
   "source": [
    "# recherche d'une corrélation instantannée \n",
    "\n",
    "# données test \n",
    "viande_rouge_0 = viande_rouge\n",
    "douleur_0 = douleur\n",
    "\n",
    "# data frame\n",
    "df = pd.DataFrame({\n",
    "    'Consommation_viande (g/jour)' : viande_rouge_0,\n",
    "    'Douleur' : douleur_0})\n",
    "\n",
    "# nettoyer les données\n",
    "df_clean = df.dropna() # supprime les lignes contenant des valeurs manquantes\n",
    "\n",
    "# calcul de la corrélation de spearman\n",
    "correlation_spearman = df_clean['Consommation_viande (g/jour)'].corr(df_clean['Douleur'], method='spearman')\n",
    "print('Corrélation instantannée de Spearman :', correlation_spearman)\n"
   ]
  },
  {
   "cell_type": "code",
   "execution_count": 6,
   "id": "edec7912-9928-4870-b112-4ac80ae89198",
   "metadata": {
    "vscode": {
     "languageId": "shellscript"
    }
   },
   "outputs": [
    {
     "name": "stdout",
     "output_type": "stream",
     "text": [
      "Corrélation instantannée de Spearman : 0.9440450601916708\n"
     ]
    }
   ],
   "source": [
    "# recherche d'une corrélation à J+1\n",
    "\n",
    "# données test \n",
    "viande_rouge_1 = viande_rouge[0:8]\n",
    "douleur_1 = douleur[1:9]\n",
    "\n",
    "# data frame\n",
    "df = pd.DataFrame({\n",
    "    'Consommation_viande (g/jour)' : viande_rouge_1,\n",
    "    'Douleur' : douleur_1})\n",
    "\n",
    "# nettoyer les données\n",
    "df_clean = df.dropna() # supprime les lignes contenant des valeurs manquantes\n",
    "\n",
    "# calcul de la corrélation de spearman\n",
    "correlation_spearman = df_clean['Consommation_viande (g/jour)'].corr(df_clean['Douleur'], method='spearman')\n",
    "print('Corrélation instantannée de Spearman :', correlation_spearman)\n"
   ]
  },
  {
   "cell_type": "code",
   "execution_count": 5,
   "id": "d5acff05-8db0-4905-b58f-a4a97cf64a71",
   "metadata": {
    "vscode": {
     "languageId": "shellscript"
    }
   },
   "outputs": [
    {
     "name": "stdout",
     "output_type": "stream",
     "text": [
      "Corrélation instantannée de Spearman : 0.5192377520339356\n"
     ]
    }
   ],
   "source": [
    "# recherche d'une corrélation à J+2\n",
    "\n",
    "# données test \n",
    "viande_rouge_2 = viande_rouge[0:7]\n",
    "douleur_2 = douleur[2:9]\n",
    "\n",
    "# data frame\n",
    "df = pd.DataFrame({\n",
    "    'Consommation_viande (g/jour)' : viande_rouge_2,\n",
    "    'Douleur' : douleur_2})\n",
    "\n",
    "# nettoyer les données\n",
    "df_clean = df.dropna() # supprime les lignes contenant des valeurs manquantes\n",
    "\n",
    "# calcul de la corrélation de spearman\n",
    "correlation_spearman = df_clean['Consommation_viande (g/jour)'].corr(df_clean['Douleur'], method='spearman')\n",
    "print('Corrélation instantannée de Spearman :', correlation_spearman)\n"
   ]
  },
  {
   "cell_type": "code",
   "execution_count": 18,
   "id": "9bef5a26-3c00-43e6-8a28-574603df1b20",
   "metadata": {
    "vscode": {
     "languageId": "shellscript"
    }
   },
   "outputs": [
    {
     "data": {
      "image/png": "[encoded data removed]",
      "text/plain": [
       "<Figure size 640x480 with 2 Axes>"
      ]
     },
     "metadata": {},
     "output_type": "display_data"
    }
   ],
   "source": [
    "jours=[i for i in range (len(douleur))]\n",
    "plt.subplot(2,1,1)\n",
    "plt.plot(jours,viande_rouge)\n",
    "plt.subplot(2,1,2)\n",
    "plt.plot(jours,douleur)\n",
    "plt.show()"
   ]
  },
  {
   "cell_type": "code",
   "execution_count": 7,
   "id": "31f37de3-b225-4570-b8f8-2a8cc919b29c",
   "metadata": {
    "vscode": {
     "languageId": "shellscript"
    }
   },
   "outputs": [
    {
     "name": "stdout",
     "output_type": "stream",
     "text": [
      "   jours  consommation  douleur  douleur_décalée1  douleur_décalée2  \\\n",
      "3      3           200        3               2.0               1.0   \n",
      "4      4           250        4               3.0               2.0   \n",
      "5      5           300        5               4.0               3.0   \n",
      "6      6           350        4               5.0               4.0   \n",
      "7      7           400        3               4.0               5.0   \n",
      "8      8           450        2               3.0               4.0   \n",
      "9      9           500        1               2.0               3.0   \n",
      "\n",
      "   douleur_décalée3  \n",
      "3               0.0  \n",
      "4               1.0  \n",
      "5               2.0  \n",
      "6               3.0  \n",
      "7               4.0  \n",
      "8               5.0  \n",
      "9               4.0  \n",
      "Coefficient de corrélation (r) : -0.69\n",
      "Valeur p : 0.0874\n",
      "Coefficient de corrélation (r) : 0.00\n",
      "Valeur p : 1.0000\n",
      "Coefficient de corrélation (r) : 0.69\n",
      "Valeur p : 0.0874\n",
      "Coefficient de corrélation (r) : 0.94\n",
      "Valeur p : 0.0014\n"
     ]
    }
   ],
   "source": [
    "import pandas as pd\n",
    "import numpy as np\n",
    "from scipy.stats import pearsonr\n",
    "import matplotlib.pyplot as plt\n",
    "\n",
    "# Exemple de données : consommation d'un aliment (en grammes) et douleur (sur une échelle de 0 à 10)\n",
    "data = {\n",
    "    'jours': [0, 1, 2, 3, 4, 5, 6, 7, 8, 9],\n",
    "    'consommation': [50, 100, 150, 200, 250, 300, 350, 400, 450, 500],\n",
    "    'douleur': [0, 1, 2, 3, 4, 5, 4, 3, 2, 1]  # Simulons une douleur qui augmente puis diminue\n",
    "}\n",
    "\n",
    "# Créer un DataFrame\n",
    "df = pd.DataFrame(data)\n",
    "\n",
    "# Décaler la douleur pour prendre en compte un potentiel délai de 1 jour\n",
    "df['douleur_décalée1'] = df['douleur'].shift(1)  # Décalage de 1 jour\n",
    "\n",
    "# Décaler la douleur pour prendre en compte un potentiel délai de 2 jours\n",
    "df['douleur_décalée2'] = df['douleur'].shift(2)  # Décalage de 2 jours\n",
    "\n",
    "# Décaler la douleur pour prendre en compte un potentiel délai de 3 jours\n",
    "df['douleur_décalée3'] = df['douleur'].shift(3)  # Décalage de 3 jours\n",
    "\n",
    "# Suppression des valeurs NaN générées par le décalage\n",
    "df = df.dropna()\n",
    "\n",
    "print(df)\n",
    "\n",
    "# Calculer le coefficient de corrélation de Pearson\n",
    "r, p_value = pearsonr(df['consommation'], df['douleur'])\n",
    "\n",
    "print(f\"Coefficient de corrélation (r) : {r:.2f}\")\n",
    "print(f\"Valeur p : {p_value:.4f}\")\n",
    "\n",
    "# Calculer le coefficient de corrélation de Pearson\n",
    "r, p_value = pearsonr(df['consommation'], df['douleur_décalée1'])\n",
    "\n",
    "print(f\"Coefficient de corrélation (r) : {r:.2f}\")\n",
    "print(f\"Valeur p : {p_value:.4f}\")\n",
    "\n",
    "# Calculer le coefficient de corrélation de Pearson\n",
    "r, p_value = pearsonr(df['consommation'], df['douleur_décalée2'])\n",
    "\n",
    "print(f\"Coefficient de corrélation (r) : {r:.2f}\")\n",
    "print(f\"Valeur p : {p_value:.4f}\")\n",
    "\n",
    "# Calculer le coefficient de corrélation de Pearson\n",
    "r, p_value = pearsonr(df['consommation'], df['douleur_décalée3'])\n",
    "\n",
    "print(f\"Coefficient de corrélation (r) : {r:.2f}\")\n",
    "print(f\"Valeur p : {p_value:.4f}\")\n",
    "\n",
    "# Visualisation\n",
    "#plt.figure(figsize=(10, 5))\n",
    "#plt.plot(df['jours'], df['consommation'], label='Consommation (g)', marker='o')\n",
    "#plt.plot(df['jours'], df['douleur_décalée'], label='Douleur (décalée)', marker='o')\n",
    "#plt.title('Consommation d\\'aliment et douleur (décalée)')\n",
    "#plt.xlabel('Jours')\n",
    "#plt.ylabel('Valeurs')\n",
    "#plt.legend()\n",
    "#plt.grid()\n",
    "#plt.show()\n"
   ]
  },
  {
   "cell_type": "code",
   "execution_count": null,
   "id": "95df8f21-b234-4ea9-8586-ee7619470b9e",
   "metadata": {
    "vscode": {
     "languageId": "shellscript"
    }
   },
   "outputs": [],
   "source": []
  }
 ],
 "metadata": {
  "kernelspec": {
   "display_name": "base",
   "language": "python",
   "name": "python3"
  },
  "language_info": {
   "codemirror_mode": {
    "name": "ipython",
    "version": 3
   },
   "file_extension": ".py",
   "mimetype": "text/x-python",
   "name": "python",
   "nbconvert_exporter": "python",
   "pygments_lexer": "ipython3",
   "version": "3.11.4"
  }
 },
 "nbformat": 4,
 "nbformat_minor": 5
}
